{
 "cells": [
  {
   "cell_type": "markdown",
   "metadata": {},
   "source": [
    "# Using the NICER Background Estimator\n",
    "\n",
    "Author: Mike Corcoran (michael.f.corcoran@nasa.gov)\n",
    "\n",
    "NICER events contain background events due to optical loading (which generally affects the spectrum at channels lower than channel 40) and particle background (which generally dominates at channels higher than channel 800).  These background components can vary during an observation.  NICER events also contain background from cosmic sources in the NICER field of view.  \n",
    "\n",
    "A spectrum accumulated over a given time interval is affected by background conditions during that interval. There are at least three parameters that can be used to estimate the total background during that interval:\n",
    "* the sun angle - this helps predict the amount of optical loading.\n",
    "* the cut-off rigidity - observations at low values of cut-off rigidity (<3, say) may be affected by charged particle background than observations at high values of cut-off rigidity.\n",
    "* the kP value - this is a parameter that characterizes the space weather conditions; high KP values indicate a higher charged particle space weather environment. Charged particle background is highest at high KP and low cut-off rigidity\n",
    "\n",
    "The ``nicergof.bkg`` package uses an [\"enhanced\" background events file](https://heasarc.gsfc.nasa.gov/FTP/caldb/data/nicer/xti/pcf/30nov18targskc_enhanced.evt) created from \"blank sky\" observations (i.e. fields with no known X-ray sources within the NICER field of view, and was accumulated from the RXTE background fields observed by NICER  (up through November 2018). This file also includes  KP, COR_SAX and SUN_ANGLE values appropriate for the time for each event in the file.  \n",
    "\n",
    "The ``nicergof.bkg`` package  also uses the [``kp.fits``](https://heasarc.gsfc.nasa.gov/FTP/caldb/data/gen/pcf/kp.fits) file (which is a FITS version created from the the [NOAA input data](ftp://ftp.swpc.noaa.gov/pub/indices/old_indices).\n",
    "\n",
    "Assume a spectrum has been accumulated from NICER events for a target for some set of Good Time Intervals. The background is estimated, for each GTI used to accumulate the spectrum:\n",
    "* Hierarchically creating a histogram of bins of of KP/COR_SAX/SUN_ANGLE values \n",
    "* extracting events from the background event file which match the observed KP, SUN_ANGLE and COR_SAX bin range \n",
    "* determining the amount of time the background events was in that particular (KP, SUN_ANGLE, COR_SAX) bin, \n",
    "* correcting the background exposure time for deadtime\n",
    "* and finally scaling the background (which include data from 50 FPMs)  by the number of Focal Plane Modules (FPMs) used to extract the source spectrum"
   ]
  },
  {
   "cell_type": "markdown",
   "metadata": {},
   "source": [
    "# CAVEATS\n",
    "\n",
    "* This software is still under development, so there are significant caveats.  \n",
    "* There may be combinations of (KP, COR_SAX, SUN_ANGLE) which are not contained in the background events file; in this case these times are ignored in the output background spectrum.  Keith and I are working on an update to this events file, and eventually plan to automate creation of this file (which will be available through the NICER website or the CALDB - plans still have firmed up).\n",
    "* there may be other parameters that are important in determining background; this is still under investigation\n",
    "* there are undoubtedly other issues.  If found please send an email to nicerhelp@bigbang.gsfc.nasa.gov "
   ]
  },
  {
   "cell_type": "markdown",
   "metadata": {},
   "source": [
    "# ``bk.mk_bkg_spec_evt`` Docstring:\n",
    "\n",
    "\n",
    "ip> from nicergof.bkg import bkg_estimator as be\n",
    "\n",
    "ip> ``be?``\n",
    "\n",
    "```\n",
    "This package contains functions which can be used to create an estimated NICER background spectrum based on the \"environmental\" model\n",
    "developed by the NICER Guest Observer Facility. The environmental model uses a combination of the cut-off rigidity (COR_SAX)\n",
    "and the Planetary K index (KP) which gives an estimate of the space weather environment.  This model also uses the SUN_ANGLE parameter\n",
    "which helps describe the low-energy background produced by optical loading.  COR_SAX and SUN_ANGLE are contained in the\n",
    "\"make filter\" file (either the standard auxil/ni*.mkf file distributed with processed data or -recommended- the augmented MKF file produced by\n",
    "the \"niprefilter2\" tool distributed with the NICERDAS HEASoft package).  The KP values are not currently included in either the .mkf or the\n",
    "enhanced (.mkf2) makefilter files, and must be added using the add_kp function defined here.\n",
    "\n",
    "PRELIMINARIES:\n",
    "\n",
    "You'll need access to these files:\n",
    "    a) The background events file 30nov18targskc_enhanced.evt (current version: https://heasarc.gsfc.nasa.gov/FTP/caldb/data/nicer/xti/pcf/30nov18targ\n",
    "skc_enhanced.evt)\n",
    "    b) the KP.fits file (the current version, updated daily, is at https://heasarc.gsfc.nasa.gov/FTP/caldb/data/gen/pcf/kp.fits)\n",
    "You can access these files virtually by specifying the URLs given above (the default for the functions defined below) or\n",
    "you can download them to a local directory for faster access.\n",
    "\n",
    "EXAMPLE of creating an estimated NICER background spectrum:\n",
    "\n",
    "  Assumptions:\n",
    "  - the NICER data is stored in subdirectories of a root directory called \"testdata\" of the current working directory.\n",
    "  - the NICER observation obsid is 1200040103\n",
    "  - a extracted spectrum (which contains background) is called src.pha and is located in the current working directory.\n",
    "  - a NICER make filter file created using the niprefilter2 NICERDAS tool exists.\n",
    "```"
   ]
  },
  {
   "cell_type": "markdown",
   "metadata": {},
   "source": [
    "# USAGE\n",
    "\n",
    "This package depends on other (mostly standard) python packages as shown by the imports below.  Users should ensure they have, \n",
    "in particular,  ``astropy`` and ``pandas`` installed.  "
   ]
  },
  {
   "cell_type": "code",
   "execution_count": 2,
   "metadata": {},
   "outputs": [
    {
     "name": "stdout",
     "output_type": "stream",
     "text": [
      "Done with imports\n"
     ]
    }
   ],
   "source": [
    "# Imports\n",
    "\n",
    "import numpy as np\n",
    "from astropy.table import Table, vstack\n",
    "from astropy.io import fits\n",
    "from astropy.time import Time\n",
    "import os\n",
    "import pandas as pd\n",
    "import glob\n",
    "from matplotlib.pyplot import *\n",
    "\n",
    "from nicergof.bkg import bkg_estimator as be\n",
    "\n",
    "print('Done with imports')\n"
   ]
  },
  {
   "cell_type": "markdown",
   "metadata": {},
   "source": [
    "# Unit Test\n",
    "\n",
    "An example calculation can be seen in the unit_test which is part of the package. A sample run is shown below:"
   ]
  },
  {
   "cell_type": "code",
   "execution_count": 71,
   "metadata": {
    "collapsed": true,
    "run_control": {
     "marked": false
    }
   },
   "outputs": [
    {
     "name": "stdout",
     "output_type": "stream",
     "text": [
      "Making mkf3 file ./1200040103/auxil/ni1200040103.mkf3\n",
      "Writing ./1200040103/auxil/ni1200040103.mkf3\n",
      "Making Background Spectrum\n",
      "\n",
      "For GTI #0; Duration = 1285.9678901433945\n",
      "\n",
      "KP: expo = 829.5384631223776; dur of GTI = 1285.9678901433945\n",
      "KP: % of bkg events between 2 < kp < 3 = 24.22%\n",
      "COR: expo = 208.42475171497728; dur of GTI = 1285.9678901433945\n",
      "COR: % of bkg events between 2 < COR < 3 = 3.06%\n",
      "Done COR index 1; 2 < COR < 3\n",
      "    SA: expo = 0.019166529669166987; dur of GTI = 1285.9678901433945\n",
      "    for 90<Sun Angle<100; Number of Events=4696\n",
      "    Done SUN Angle index 5; 90 < SUN_ANGLE < 100; # Events = 4696\n",
      "    Source exposure = 0.019; Background exposure = 2979.440\n",
      "    SA: expo = 0.09712230215827339; dur of GTI = 1285.9678901433945\n",
      "    for 100<Sun Angle<110; Number of Events=3642\n",
      "    Done SUN Angle index 6; 100 < SUN_ANGLE < 110; # Events = 3642\n",
      "    Source exposure = 0.097; Background exposure = 2312.930\n",
      "    SA: expo = 0.09712230215827339; dur of GTI = 1285.9678901433945\n",
      "    for 110<Sun Angle<120; Number of Events=1946\n",
      "    Done SUN Angle index 7; 110 < SUN_ANGLE < 120; # Events = 1946\n",
      "    Source exposure = 0.097; Background exposure = 1233.172\n",
      "    SA: expo = 0.07673860911270983; dur of GTI = 1285.9678901433945\n",
      "    for 120<Sun Angle<130; Number of Events=5338\n",
      "    Done SUN Angle index 8; 120 < SUN_ANGLE < 130; # Events = 5338\n",
      "    Source exposure = 0.077; Background exposure = 3389.932\n",
      "    SA: expo = 0.1199040767386091; dur of GTI = 1285.9678901433945\n",
      "    for 130<Sun Angle<140; Number of Events=1463\n",
      "    Done SUN Angle index 9; 130 < SUN_ANGLE < 140; # Events = 1463\n",
      "    Source exposure = 0.120; Background exposure = 929.049\n",
      "    SA: expo = 0.1199040767386091; dur of GTI = 1285.9678901433945\n",
      "    for 140<Sun Angle<150; Number of Events=1216\n",
      "    Done SUN Angle index 10; 140 < SUN_ANGLE < 150; # Events = 1216\n",
      "    Source exposure = 0.120; Background exposure = 772.472\n",
      "    SA: expo = 732.8181309714864; dur of GTI = 1285.9678901433945\n",
      "    for 150<Sun Angle<160; Number of Events=1734\n",
      "    Done SUN Angle index 11; 150 < SUN_ANGLE < 160; # Events = 1734\n",
      "    Source exposure = 732.818; Background exposure = 1101.590\n",
      "    total exposure in this kp, Cor bin for observed SA values = 12718.584830920596\n",
      "COR: expo = 37.77158736485641; dur of GTI = 1285.9678901433945\n",
      "COR: % of bkg events between 3 < COR < 4 = 2.97%\n",
      "Done COR index 2; 3 < COR < 4\n",
      "    SA: expo = 0.019166529669166987; dur of GTI = 1285.9678901433945\n",
      "    for 90<Sun Angle<100; Number of Events=1279\n",
      "    Done SUN Angle index 5; 90 < SUN_ANGLE < 100; # Events = 1279\n",
      "    Source exposure = 0.019; Background exposure = 809.870\n",
      "    SA: expo = 0.09712230215827339; dur of GTI = 1285.9678901433945\n",
      "    for 100<Sun Angle<110; Number of Events=4080\n",
      "    Done SUN Angle index 6; 100 < SUN_ANGLE < 110; # Events = 4080\n",
      "    Source exposure = 0.097; Background exposure = 2583.130\n",
      "    SA: expo = 0.09712230215827339; dur of GTI = 1285.9678901433945\n",
      "    for 110<Sun Angle<120; Number of Events=3672\n",
      "    Done SUN Angle index 7; 110 < SUN_ANGLE < 120; # Events = 3672\n",
      "    Source exposure = 0.097; Background exposure = 2317.518\n",
      "    SA: expo = 0.07673860911270983; dur of GTI = 1285.9678901433945\n",
      "    for 120<Sun Angle<130; Number of Events=4087\n",
      "    Done SUN Angle index 8; 120 < SUN_ANGLE < 130; # Events = 4087\n",
      "    Source exposure = 0.077; Background exposure = 2588.102\n",
      "    SA: expo = 0.1199040767386091; dur of GTI = 1285.9678901433945\n",
      "    for 130<Sun Angle<140; Number of Events=1305\n",
      "    Done SUN Angle index 9; 130 < SUN_ANGLE < 140; # Events = 1305\n",
      "    Source exposure = 0.120; Background exposure = 826.581\n",
      "    SA: expo = 0.1199040767386091; dur of GTI = 1285.9678901433945\n",
      "    for 140<Sun Angle<150; Number of Events=1311\n",
      "    Done SUN Angle index 10; 140 < SUN_ANGLE < 150; # Events = 1311\n",
      "    Source exposure = 0.120; Background exposure = 830.381\n",
      "    SA: expo = 732.8181309714864; dur of GTI = 1285.9678901433945\n",
      "    for 150<Sun Angle<160; Number of Events=1117\n",
      "    Done SUN Angle index 11; 150 < SUN_ANGLE < 160; # Events = 1117\n",
      "    Source exposure = 732.818; Background exposure = 707.562\n",
      "    total exposure in this kp, Cor bin for observed SA values = 10663.14258052569\n",
      "COR: expo = 14.694203151209651; dur of GTI = 1285.9678901433945\n",
      "COR: % of bkg events between 4 < COR < 5 = 1.79%\n",
      "Done COR index 3; 4 < COR < 5\n",
      "    SA: expo = 0.019166529669166987; dur of GTI = 1285.9678901433945\n",
      "    for 90<Sun Angle<100; Number of Events=894\n",
      "    Done SUN Angle index 5; 90 < SUN_ANGLE < 100; # Events = 894\n",
      "    Source exposure = 0.019; Background exposure = 566.094\n",
      "    SA: expo = 0.09712230215827339; dur of GTI = 1285.9678901433945\n",
      "    for 100<Sun Angle<110; Number of Events=3386\n",
      "    Done SUN Angle index 6; 100 < SUN_ANGLE < 110; # Events = 3386\n",
      "    Source exposure = 0.097; Background exposure = 2144.285\n",
      "    SA: expo = 0.09712230215827339; dur of GTI = 1285.9678901433945\n",
      "    for 110<Sun Angle<120; Number of Events=2307\n",
      "    Done SUN Angle index 7; 110 < SUN_ANGLE < 120; # Events = 2307\n",
      "    Source exposure = 0.097; Background exposure = 1457.132\n",
      "    SA: expo = 0.07673860911270983; dur of GTI = 1285.9678901433945\n",
      "    for 120<Sun Angle<130; Number of Events=2929\n",
      "    Done SUN Angle index 8; 120 < SUN_ANGLE < 130; # Events = 2929\n",
      "    Source exposure = 0.077; Background exposure = 1855.165\n",
      "    SA: expo = 0.1199040767386091; dur of GTI = 1285.9678901433945\n",
      "    for 130<Sun Angle<140; Number of Events=1087\n",
      "    Done SUN Angle index 9; 130 < SUN_ANGLE < 140; # Events = 1087\n",
      "    Source exposure = 0.120; Background exposure = 688.834\n",
      "    SA: expo = 0.1199040767386091; dur of GTI = 1285.9678901433945\n",
      "    for 140<Sun Angle<150; Number of Events=878\n",
      "    Done SUN Angle index 10; 140 < SUN_ANGLE < 150; # Events = 878\n",
      "    Source exposure = 0.120; Background exposure = 556.368\n",
      "    SA: expo = 732.8181309714864; dur of GTI = 1285.9678901433945\n",
      "    for 150<Sun Angle<160; Number of Events=678\n",
      "    Done SUN Angle index 11; 150 < SUN_ANGLE < 160; # Events = 678\n",
      "    Source exposure = 732.818; Background exposure = 429.680\n",
      "    total exposure in this kp, Cor bin for observed SA values = 7697.557144783578\n",
      "COR: expo = 8.616431468064034; dur of GTI = 1285.9678901433945\n",
      "COR: % of bkg events between 5 < COR < 6 = 1.41%\n",
      "Done COR index 4; 5 < COR < 6\n",
      "    SA: expo = 0.019166529669166987; dur of GTI = 1285.9678901433945\n",
      "    for 90<Sun Angle<100; Number of Events=665\n",
      "    Done SUN Angle index 5; 90 < SUN_ANGLE < 100; # Events = 665\n",
      "    Source exposure = 0.019; Background exposure = 420.882\n",
      "    SA: expo = 0.09712230215827339; dur of GTI = 1285.9678901433945\n",
      "    for 100<Sun Angle<110; Number of Events=2529\n",
      "    Done SUN Angle index 6; 100 < SUN_ANGLE < 110; # Events = 2529\n",
      "    Source exposure = 0.097; Background exposure = 1600.532\n",
      "    SA: expo = 0.09712230215827339; dur of GTI = 1285.9678901433945\n",
      "    for 110<Sun Angle<120; Number of Events=1805\n",
      "    Done SUN Angle index 7; 110 < SUN_ANGLE < 120; # Events = 1805\n",
      "    Source exposure = 0.097; Background exposure = 1139.572\n",
      "    SA: expo = 0.07673860911270983; dur of GTI = 1285.9678901433945\n",
      "    for 120<Sun Angle<130; Number of Events=2764\n",
      "    Done SUN Angle index 8; 120 < SUN_ANGLE < 130; # Events = 2764\n",
      "    Source exposure = 0.077; Background exposure = 1749.545\n",
      "    SA: expo = 0.1199040767386091; dur of GTI = 1285.9678901433945\n",
      "    for 130<Sun Angle<140; Number of Events=602\n",
      "    Done SUN Angle index 9; 130 < SUN_ANGLE < 140; # Events = 602\n",
      "    Source exposure = 0.120; Background exposure = 381.213\n",
      "    SA: expo = 0.1199040767386091; dur of GTI = 1285.9678901433945\n",
      "    for 140<Sun Angle<150; Number of Events=629\n",
      "    Done SUN Angle index 10; 140 < SUN_ANGLE < 150; # Events = 629\n",
      "    Source exposure = 0.120; Background exposure = 398.356\n",
      "    SA: expo = 732.8181309714864; dur of GTI = 1285.9678901433945\n",
      "    for 150<Sun Angle<160; Number of Events=295\n",
      "    Done SUN Angle index 11; 150 < SUN_ANGLE < 160; # Events = 295\n",
      "    Source exposure = 732.818; Background exposure = 186.848\n",
      "    total exposure in this kp, Cor bin for observed SA values = 5876.946787951991\n",
      "COR: expo = 2.103812928584558; dur of GTI = 1285.9678901433945\n",
      "COR: % of bkg events between 6 < COR < 7 = 1.40%\n",
      "Done COR index 5; 6 < COR < 7\n",
      "    SA: expo = 0.019166529669166987; dur of GTI = 1285.9678901433945\n",
      "    for 90<Sun Angle<100; Number of Events=772\n",
      "    Done SUN Angle index 5; 90 < SUN_ANGLE < 100; # Events = 772\n",
      "    Source exposure = 0.019; Background exposure = 487.258\n",
      "    SA: expo = 0.09712230215827339; dur of GTI = 1285.9678901433945\n",
      "    for 100<Sun Angle<110; Number of Events=2609\n",
      "    Done SUN Angle index 6; 100 < SUN_ANGLE < 110; # Events = 2609\n",
      "    Source exposure = 0.097; Background exposure = 1648.316\n",
      "    SA: expo = 0.09712230215827339; dur of GTI = 1285.9678901433945\n",
      "    for 110<Sun Angle<120; Number of Events=1751\n",
      "    Done SUN Angle index 7; 110 < SUN_ANGLE < 120; # Events = 1751\n",
      "    Source exposure = 0.097; Background exposure = 1103.129\n",
      "    SA: expo = 0.07673860911270983; dur of GTI = 1285.9678901433945\n",
      "    for 120<Sun Angle<130; Number of Events=2267\n",
      "    Done SUN Angle index 8; 120 < SUN_ANGLE < 130; # Events = 2267\n",
      "    Source exposure = 0.077; Background exposure = 1432.173\n",
      "    SA: expo = 0.1199040767386091; dur of GTI = 1285.9678901433945\n",
      "    for 130<Sun Angle<140; Number of Events=554\n",
      "    Done SUN Angle index 9; 130 < SUN_ANGLE < 140; # Events = 554\n",
      "    Source exposure = 0.120; Background exposure = 350.216\n",
      "    SA: expo = 0.1199040767386091; dur of GTI = 1285.9678901433945\n",
      "    for 140<Sun Angle<150; Number of Events=425\n",
      "    Done SUN Angle index 10; 140 < SUN_ANGLE < 150; # Events = 425\n",
      "    Source exposure = 0.120; Background exposure = 268.680\n",
      "    SA: expo = 732.8181309714864; dur of GTI = 1285.9678901433945\n",
      "    for 150<Sun Angle<160; Number of Events=89\n",
      "    Done SUN Angle index 11; 150 < SUN_ANGLE < 160; # Events = 89\n",
      "    Source exposure = 732.818; Background exposure = 56.263\n",
      "    total exposure in this kp, Cor bin for observed SA values = 5346.034450408293\n"
     ]
    },
    {
     "name": "stdout",
     "output_type": "stream",
     "text": [
      "\n",
      " Writing ./test_bkg.pha\n",
      "Done\n"
     ]
    }
   ],
   "source": [
    "# Change rootdir to point to the location of the testdata directory distributed with nicergof.bkg\n",
    "rootdir = '/path/to/testdata'\n",
    "rootdir = 'testdata'\n",
    "# then run \n",
    "bkg_chan, bkgspec_tot, bexpotot = be.unit_test(pha='test.pha', obsid=1200040103,root='testdata', numfpms = 52,\n",
    "                                               bevt=\"https://heasarc.gsfc.nasa.gov/FTP/caldb/data/nicer/xti/pcf/30nov18targskc_enhanced.evt\"):"
   ]
  },
  {
   "cell_type": "markdown",
   "metadata": {},
   "source": [
    "# Compare the Calculated Background with the Source Spectrum"
   ]
  },
  {
   "cell_type": "code",
   "execution_count": 3,
   "metadata": {},
   "outputs": [
    {
     "data": {
      "text/plain": [
       "<matplotlib.legend.Legend at 0x11dc2cc50>"
      ]
     },
     "execution_count": 3,
     "metadata": {},
     "output_type": "execute_result"
    },
    {
     "data": {
      "image/png": "[encoded data removed]",
      "text/plain": [
       "<Figure size 720x504 with 1 Axes>"
      ]
     },
     "metadata": {
      "needs_background": "light"
     },
     "output_type": "display_data"
    }
   ],
   "source": [
    "%matplotlib inline\n",
    "\n",
    "pha='test.pha'\n",
    "hdup=fits.open(pha)\n",
    "hdub=fits.open(pha.replace('.pha','_bkg.pha'))\n",
    "sch = hdup['SPECTRUM'].data['CHANNEL']\n",
    "sct = hdup['SPECTRUM'].data['COUNTS']\n",
    "se = hdup['SPECTRUM'].header['EXPOSURE']\n",
    "bch = hdup['SPECTRUM'].data['CHANNEL']\n",
    "bct = hdub['SPECTRUM'].data['COUNTS']\n",
    "bex = hdub['SPECTRUM'].header['EXPOSURE']\n",
    "figure(figsize=[10,7])\n",
    "yscale('log')\n",
    "xlabel('Energy (keV)', fontsize=16)\n",
    "ylabel('Counts/s', fontsize=16)\n",
    "errorbar(sch/100, sct/se, yerr=np.sqrt(sct)/se, label='Source')\n",
    "errorbar(bch/100, bct/bex, yerr=np.sqrt(bct)/bex,label='Background')\n",
    "errorbar(bch/100, sct/se - bct/bex, yerr=np.sqrt(sct)/se,label='Net')\n",
    "legend(loc='upper right', fontsize=20)\n"
   ]
  },
  {
   "cell_type": "code",
   "execution_count": null,
   "metadata": {},
   "outputs": [],
   "source": []
  }
 ],
 "metadata": {
  "hide_input": false,
  "kernelspec": {
   "display_name": "Python 3",
   "language": "python",
   "name": "python3"
  },
  "language_info": {
   "codemirror_mode": {
    "name": "ipython",
    "version": 3
   },
   "file_extension": ".py",
   "mimetype": "text/x-python",
   "name": "python",
   "nbconvert_exporter": "python",
   "pygments_lexer": "ipython3",
   "version": "3.8.2"
  },
  "nav_menu": {},
  "pycharm": {
   "stem_cell": {
    "cell_type": "raw",
    "metadata": {
     "collapsed": false
    },
    "source": []
   }
  },
  "toc": {
   "base_numbering": 1,
   "nav_menu": {},
   "number_sections": false,
   "sideBar": true,
   "skip_h1_title": false,
   "title_cell": "Table of Contents",
   "title_sidebar": "Contents",
   "toc_cell": false,
   "toc_position": {},
   "toc_section_display": "block",
   "toc_window_display": false
  }
 },
 "nbformat": 4,
 "nbformat_minor": 2
}
